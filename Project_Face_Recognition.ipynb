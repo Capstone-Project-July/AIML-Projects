{
  "nbformat": 4,
  "nbformat_minor": 0,
  "metadata": {
    "colab": {
      "name": "Project_Face Recognition.ipynb",
      "provenance": []
    },
    "kernelspec": {
      "name": "python3",
      "display_name": "Python 3"
    },
    "accelerator": "GPU"
  },
  "cells": [
    {
      "cell_type": "code",
      "metadata": {
        "id": "CBHzl1uIBdky",
        "colab_type": "code",
        "colab": {}
      },
      "source": [
        "import tensorflow as tf\n",
        "import os"
      ],
      "execution_count": 0,
      "outputs": []
    },
    {
      "cell_type": "code",
      "metadata": {
        "id": "TdY7UNsGPoIh",
        "colab_type": "code",
        "colab": {}
      },
      "source": [
        "from google.colab import drive"
      ],
      "execution_count": 0,
      "outputs": []
    },
    {
      "cell_type": "code",
      "metadata": {
        "id": "mxjdpW-RPtqp",
        "colab_type": "code",
        "outputId": "bcf7f572-a97a-49a0-97d8-ad4ab1d62c84",
        "colab": {
          "base_uri": "https://localhost:8080/",
          "height": 121
        }
      },
      "source": [
        "drive.mount(\"/content/gdrive\")"
      ],
      "execution_count": 0,
      "outputs": [
        {
          "output_type": "stream",
          "text": [
            "Go to this URL in a browser: https://accounts.google.com/o/oauth2/auth?client_id=947318989803-6bn6qk8qdgf4n4g3pfee6491hc0brc4i.apps.googleusercontent.com&redirect_uri=urn%3aietf%3awg%3aoauth%3a2.0%3aoob&response_type=code&scope=email%20https%3a%2f%2fwww.googleapis.com%2fauth%2fdocs.test%20https%3a%2f%2fwww.googleapis.com%2fauth%2fdrive%20https%3a%2f%2fwww.googleapis.com%2fauth%2fdrive.photos.readonly%20https%3a%2f%2fwww.googleapis.com%2fauth%2fpeopleapi.readonly\n",
            "\n",
            "Enter your authorization code:\n",
            "··········\n",
            "Mounted at /content/gdrive\n"
          ],
          "name": "stdout"
        }
      ]
    },
    {
      "cell_type": "code",
      "metadata": {
        "id": "_PPsck1UPvtu",
        "colab_type": "code",
        "colab": {}
      },
      "source": [
        "import sys\n",
        "import numpy as np\n",
        "import pickle\n",
        "import os\n",
        "import matplotlib.pyplot as plt\n",
        "%matplotlib inline\n",
        "\n",
        "import cv2\n",
        "import time\n",
        "import itertools\n",
        "import random\n",
        "\n",
        "from sklearn.utils import shuffle\n",
        "\n",
        "from tensorflow.keras.models import Sequential\n",
        "from tensorflow.keras.optimizers import Adam, RMSprop\n",
        "from tensorflow.keras.layers import Conv2D, ZeroPadding2D, Activation, Input, concatenate, Dropout\n",
        "from tensorflow.keras.models import Model\n",
        "\n",
        "from tensorflow.keras.layers import BatchNormalization\n",
        "from tensorflow.keras.layers import MaxPooling2D\n",
        "from tensorflow.keras.layers import Concatenate\n",
        "from tensorflow.keras.layers import Lambda, Flatten, Dense\n",
        "from tensorflow.keras.initializers import glorot_uniform\n",
        "\n",
        "from tensorflow.keras.layers import Layer\n",
        "from tensorflow.keras.regularizers import l2\n",
        "from tensorflow.keras import backend as K\n",
        "from tensorflow.keras.callbacks import EarlyStopping, ModelCheckpoint, ReduceLROnPlateau"
      ],
      "execution_count": 0,
      "outputs": []
    },
    {
      "cell_type": "code",
      "metadata": {
        "id": "kO39kXamQC5Z",
        "colab_type": "code",
        "colab": {}
      },
      "source": [
        "project_path = \"/content/gdrive/My Drive/Face Recognition/\""
      ],
      "execution_count": 0,
      "outputs": []
    },
    {
      "cell_type": "code",
      "metadata": {
        "id": "lkFXhSTeQOzC",
        "colab_type": "code",
        "colab": {}
      },
      "source": [
        "from zipfile import ZipFile\n",
        "\n",
        "with ZipFile(project_path +'Aligned Face Dataset from Pinterest.zip', 'r') as z:\n",
        "  z.extractall()"
      ],
      "execution_count": 0,
      "outputs": []
    },
    {
      "cell_type": "code",
      "metadata": {
        "id": "aNjCQxdHQYCQ",
        "colab_type": "code",
        "colab": {}
      },
      "source": [
        "path = \"/content/PINS/\""
      ],
      "execution_count": 0,
      "outputs": []
    },
    {
      "cell_type": "code",
      "metadata": {
        "id": "mbenLB5-Uh4R",
        "colab_type": "code",
        "colab": {}
      },
      "source": [
        "# Get the list of all directories and sort them\n",
        "dir_list = next(os.walk(path))[1]\n",
        "dir_list.sort()"
      ],
      "execution_count": 0,
      "outputs": []
    },
    {
      "cell_type": "code",
      "metadata": {
        "id": "8tIHlWkZUka1",
        "colab_type": "code",
        "outputId": "d0f1328b-2531-4cde-d49c-9d22d81e98d0",
        "colab": {
          "base_uri": "https://localhost:8080/",
          "height": 1000
        }
      },
      "source": [
        "dir_list"
      ],
      "execution_count": 0,
      "outputs": [
        {
          "output_type": "execute_result",
          "data": {
            "text/plain": [
              "['pins_Aaron Paul',\n",
              " 'pins_Alvaro Morte',\n",
              " 'pins_Amanda Crew',\n",
              " 'pins_Amaury Nolasco',\n",
              " 'pins_Anna Gunn',\n",
              " 'pins_Benedict Cumberbatch',\n",
              " 'pins_Betsy Brandt',\n",
              " 'pins_Brenton Thwaites',\n",
              " 'pins_Brit Marling',\n",
              " 'pins_Bryan Cranston',\n",
              " 'pins_Caity Lotz',\n",
              " 'pins_Cameron Monaghan',\n",
              " 'pins_Chance Perdomo',\n",
              " 'pins_Chris Evans',\n",
              " 'pins_Chris Pratt',\n",
              " 'pins_Cobie Smulders',\n",
              " 'pins_Danielle Panabaker',\n",
              " 'pins_Dave Franco',\n",
              " 'pins_Dominic Purcell',\n",
              " 'pins_Dwayne Johnson',\n",
              " 'pins_Emilia Clarke',\n",
              " 'pins_Emily Bett Rickards',\n",
              " 'pins_Emma Stone',\n",
              " 'pins_Gwyneth Paltrow',\n",
              " 'pins_Henry Cavil',\n",
              " 'pins_Jason Momoa',\n",
              " 'pins_Jeremy Renner',\n",
              " 'pins_Jesse Eisenberg',\n",
              " 'pins_Jim Parsons',\n",
              " 'pins_Jon Bernthal',\n",
              " 'pins_Josh Radnor',\n",
              " 'pins_Kit Harington',\n",
              " 'pins_Krysten Ritter',\n",
              " 'pins_Kumail Nanjiani',\n",
              " 'pins_Maisie Williams',\n",
              " 'pins_Mark Ruffalo',\n",
              " 'pins_Martin Starr',\n",
              " 'pins_Melissa benoit',\n",
              " 'pins_Mike Colter',\n",
              " 'pins_Morena Baccarin',\n",
              " 'pins_Morgan Freeman',\n",
              " 'pins_Natalie Portman ',\n",
              " 'pins_Neil Patrick Harris',\n",
              " 'pins_Paul Rudd',\n",
              " 'pins_Pedro Alonso',\n",
              " 'pins_Peter Dinklage',\n",
              " 'pins_RJ Mitte',\n",
              " 'pins_Rami Melek',\n",
              " 'pins_Robert Knepper',\n",
              " 'pins_Robin Taylor',\n",
              " 'pins_Ryan Reynolds',\n",
              " 'pins_Sarah Wayne Callies',\n",
              " 'pins_Scarlett Johansson',\n",
              " 'pins_Sebastian Stan',\n",
              " 'pins_Sophie Turner',\n",
              " 'pins_Stephen Amell',\n",
              " 'pins_Sundar Pichai',\n",
              " 'pins_Thomas Middleditch',\n",
              " 'pins_Tom Cavanagh',\n",
              " 'pins_Ursula Corbero',\n",
              " 'pins_Wentworth Miller',\n",
              " 'pins_Willa Holland',\n",
              " 'pins_William Fichtner',\n",
              " 'pins_alexandra daddario',\n",
              " 'pins_alycia debnam carey face',\n",
              " 'pins_amber heard face',\n",
              " 'pins_anne hathaway',\n",
              " 'pins_barbara palvin face',\n",
              " 'pins_bellamy blake face',\n",
              " 'pins_bill gates',\n",
              " 'pins_brie larson',\n",
              " 'pins_chadwick boseman face',\n",
              " 'pins_david mazouz',\n",
              " 'pins_drake',\n",
              " 'pins_dua lipa face',\n",
              " 'pins_eliza taylor',\n",
              " 'pins_elizabeth olsen face',\n",
              " 'pins_elon musk',\n",
              " 'pins_emma watson face',\n",
              " 'pins_gal gadot face',\n",
              " 'pins_grant gustin face',\n",
              " 'pins_jason isaacs',\n",
              " 'pins_jeff bezos',\n",
              " 'pins_kiernan shipka ',\n",
              " 'pins_kristen stewart face',\n",
              " 'pins_lindsey morgan face',\n",
              " 'pins_margot robbie face',\n",
              " 'pins_maria pedraza',\n",
              " 'pins_mark zuckerberg',\n",
              " 'pins_miguel herran',\n",
              " 'pins_millie bobby brown',\n",
              " 'pins_rihanna',\n",
              " 'pins_robert downey jr face',\n",
              " 'pins_sean pertwee',\n",
              " 'pins_selena gomez',\n",
              " 'pins_shakira',\n",
              " 'pins_tati gabrielle',\n",
              " 'pins_taylor swift',\n",
              " 'pins_tom holland face',\n",
              " 'pins_zendaya']"
            ]
          },
          "metadata": {
            "tags": []
          },
          "execution_count": 9
        }
      ]
    },
    {
      "cell_type": "code",
      "metadata": {
        "id": "34ijwT7aUmpS",
        "colab_type": "code",
        "colab": {}
      },
      "source": [
        "orig_groups, forg_groups = [], []\n",
        "for directory in dir_list:\n",
        "    images = os.listdir(path+directory)\n",
        "    images.sort()\n",
        "    images = [path+directory+'/'+x for x in images]\n",
        "    forg_groups.append(images[:30]) \n",
        "    orig_groups.append(images[30:])"
      ],
      "execution_count": 0,
      "outputs": []
    },
    {
      "cell_type": "code",
      "metadata": {
        "id": "L0rkdBqdUyA0",
        "colab_type": "code",
        "outputId": "8e39c00b-e9e6-4952-b90d-829f12684f58",
        "colab": {
          "base_uri": "https://localhost:8080/",
          "height": 34
        }
      },
      "source": [
        "len(orig_groups), len(forg_groups)"
      ],
      "execution_count": 0,
      "outputs": [
        {
          "output_type": "execute_result",
          "data": {
            "text/plain": [
              "(100, 100)"
            ]
          },
          "metadata": {
            "tags": []
          },
          "execution_count": 11
        }
      ]
    },
    {
      "cell_type": "code",
      "metadata": {
        "id": "nAONIJesU_1-",
        "colab_type": "code",
        "colab": {}
      },
      "source": [
        "orig_lengths = [len(x) for x in orig_groups]\n",
        "forg_lengths = [len(x) for x in forg_groups]"
      ],
      "execution_count": 0,
      "outputs": []
    },
    {
      "cell_type": "code",
      "metadata": {
        "id": "sjowu6K3VChj",
        "colab_type": "code",
        "outputId": "bd298a49-17f9-40c5-be2d-62745a227332",
        "colab": {
          "base_uri": "https://localhost:8080/",
          "height": 54
        }
      },
      "source": [
        "print(orig_lengths)"
      ],
      "execution_count": 0,
      "outputs": [
        {
          "output_type": "stream",
          "text": [
            "[56, 61, 88, 83, 36, 51, 38, 100, 92, 50, 93, 82, 56, 58, 111, 100, 85, 96, 77, 94, 124, 46, 98, 91, 104, 103, 89, 63, 79, 31, 71, 75, 85, 60, 118, 88, 18, 92, 41, 102, 67, 87, 43, 97, 47, 64, 41, 45, 65, 69, 67, 90, 116, 77, 91, 70, 59, 52, 70, 50, 83, 117, 109, 135, 114, 121, 121, 112, 59, 56, 98, 89, 74, 8, 107, 75, 151, 55, 133, 128, 92, 95, 58, 137, 88, 46, 110, 38, 32, 51, 52, 90, 77, 52, 63, 20, 35, 69, 89, 79]\n"
          ],
          "name": "stdout"
        }
      ]
    },
    {
      "cell_type": "code",
      "metadata": {
        "id": "73OFMhIQVE3C",
        "colab_type": "code",
        "outputId": "48a2aa07-c762-4eb5-988a-fc16ee214fe8",
        "colab": {
          "base_uri": "https://localhost:8080/",
          "height": 54
        }
      },
      "source": [
        "print(forg_lengths)"
      ],
      "execution_count": 0,
      "outputs": [
        {
          "output_type": "stream",
          "text": [
            "[30, 30, 30, 30, 30, 30, 30, 30, 30, 30, 30, 30, 30, 30, 30, 30, 30, 30, 30, 30, 30, 30, 30, 30, 30, 30, 30, 30, 30, 30, 30, 30, 30, 30, 30, 30, 30, 30, 30, 30, 30, 30, 30, 30, 30, 30, 30, 30, 30, 30, 30, 30, 30, 30, 30, 30, 30, 30, 30, 30, 30, 30, 30, 30, 30, 30, 30, 30, 30, 30, 30, 30, 30, 30, 30, 30, 30, 30, 30, 30, 30, 30, 30, 30, 30, 30, 30, 30, 30, 30, 30, 30, 30, 30, 30, 30, 30, 30, 30, 30]\n"
          ],
          "name": "stdout"
        }
      ]
    },
    {
      "cell_type": "code",
      "metadata": {
        "id": "Bv0VfLzpVI1C",
        "colab_type": "code",
        "colab": {}
      },
      "source": [
        "orig_train, orig_val, orig_test = orig_groups[:120], orig_groups[120:140], orig_groups[140:]\n",
        "forg_train, forg_val, forg_test = forg_groups[:120], forg_groups[120:140], forg_groups[140:]"
      ],
      "execution_count": 0,
      "outputs": []
    },
    {
      "cell_type": "code",
      "metadata": {
        "id": "yYsw4YbQVNrC",
        "colab_type": "code",
        "colab": {}
      },
      "source": [
        "del orig_groups, forg_groups"
      ],
      "execution_count": 0,
      "outputs": []
    },
    {
      "cell_type": "code",
      "metadata": {
        "id": "yGaFL5k1VPrS",
        "colab_type": "code",
        "colab": {}
      },
      "source": [
        "img_h, img_w = 155, 220  # converting all image to same size before processing"
      ],
      "execution_count": 0,
      "outputs": []
    },
    {
      "cell_type": "code",
      "metadata": {
        "id": "UNp8Idy0VR1h",
        "colab_type": "code",
        "colab": {}
      },
      "source": [
        "def visualize_sample_image():\n",
        "    '''Function to randomly select an image from train set and\n",
        "    print two genuine copies and one forged copy'''\n",
        "    fig, (ax1, ax2, ax3) = plt.subplots(1, 3, figsize = (10, 10))\n",
        "    k = np.random.randint(len(orig_train))\n",
        "    orig_img_names = random.sample(orig_train[k], 2)\n",
        "    forg_img_name = random.sample(forg_train[k], 1)\n",
        "    orig_img1 = cv2.imread(orig_img_names[0], 0)\n",
        "    orig_img2 = cv2.imread(orig_img_names[1], 0)\n",
        "    forg_img = cv2.imread(forg_img_name[0], 0)\n",
        "    orig_img1 = cv2.resize(orig_img1, (img_w, img_h))\n",
        "    orig_img2 = cv2.resize(orig_img2, (img_w, img_h))\n",
        "    forg_img = cv2.resize(forg_img, (img_w, img_h))\n",
        "\n",
        "    ax1.imshow(orig_img1, cmap = 'gray')\n",
        "    ax2.imshow(orig_img2, cmap = 'gray')\n",
        "    ax3.imshow(forg_img, cmap = 'gray')\n",
        "\n",
        "    ax1.set_title('Genuine Copy')\n",
        "    ax1.axis('off')\n",
        "    ax2.set_title('Genuine Copy')\n",
        "    ax2.axis('off')\n",
        "    ax3.set_title('Forged Copy')\n",
        "    ax3.axis('off')"
      ],
      "execution_count": 0,
      "outputs": []
    },
    {
      "cell_type": "code",
      "metadata": {
        "id": "pwmXSaCEVci2",
        "colab_type": "code",
        "outputId": "dd9d7d79-3ec7-4629-963e-2062d6a3b25d",
        "colab": {
          "base_uri": "https://localhost:8080/",
          "height": 163
        }
      },
      "source": [
        "visualize_sample_image()"
      ],
      "execution_count": 0,
      "outputs": [
        {
          "output_type": "display_data",
          "data": {
            "image/png": "[encoded data removed]",
            "text/plain": [
              "<Figure size 720x720 with 3 Axes>"
            ]
          },
          "metadata": {
            "tags": [],
            "needs_background": "light"
          }
        }
      ]
    },
    {
      "cell_type": "code",
      "metadata": {
        "id": "nbJcDZarVkEv",
        "colab_type": "code",
        "colab": {}
      },
      "source": [
        "def generate_batch(orig_groups, forg_groups, batch_size = 32):\n",
        "    '''Function to generate a batch of data with batch_size number of data points\n",
        "    Half of the data points will be Genuine-Genuine pairs and half will be Genuine-Forged pairs'''\n",
        "    while True:\n",
        "        orig_pairs = []\n",
        "        forg_pairs = []\n",
        "        gen_gen_labels = []\n",
        "        gen_for_labels = []\n",
        "        all_pairs = []\n",
        "        all_labels = []\n",
        "        \n",
        "        for orig, forg in zip(orig_groups, forg_groups):\n",
        "            orig_pairs.extend(list(itertools.combinations(orig, 2)))\n",
        "            for i in range(len(forg)):\n",
        "                forg_pairs.extend(list(itertools.product(orig[i:i+1], random.sample(forg, 12))))\n",
        "        \n",
        "        # Label for Genuine-Genuine pairs is 1\n",
        "        # Label for Genuine-Forged pairs is 0\n",
        "        gen_gen_labels = [1]*len(orig_pairs)\n",
        "        gen_for_labels = [0]*len(forg_pairs)\n",
        "        \n",
        "        # Concatenate all the pairs together along with their labels and shuffle them\n",
        "        all_pairs = orig_pairs + forg_pairs\n",
        "        all_labels = gen_gen_labels + gen_for_labels\n",
        "        del orig_pairs, forg_pairs, gen_gen_labels, gen_for_labels\n",
        "        all_pairs, all_labels = shuffle(all_pairs, all_labels)\n",
        "        \n",
        "        # Note the lists above contain only the image names and\n",
        "        # actual images are loaded and yielded below in batches\n",
        "        # Below we prepare a batch of data points and yield the batch\n",
        "        # In each batch we load \"batch_size\" number of image pairs\n",
        "        # These images are then removed from the original set so that\n",
        "        # they are not added again in the next batch.\n",
        "            \n",
        "        k = 0\n",
        "        pairs=[np.zeros((batch_size, img_h, img_w, 1)) for i in range(2)]\n",
        "        targets=np.zeros((batch_size,))\n",
        "        for ix, pair in enumerate(all_pairs):\n",
        "            img1 = cv2.imread(pair[0], 0)\n",
        "            img2 = cv2.imread(pair[1], 0)\n",
        "            img1 = cv2.resize(img1, (img_w, img_h))\n",
        "            img2 = cv2.resize(img2, (img_w, img_h))\n",
        "            img1 = np.array(img1, dtype = np.float64)\n",
        "            img2 = np.array(img2, dtype = np.float64)\n",
        "            img1 /= 255\n",
        "            img2 /= 255\n",
        "            img1 = img1[..., np.newaxis]\n",
        "            img2 = img2[..., np.newaxis]\n",
        "            pairs[0][k, :, :, :] = img1\n",
        "            pairs[1][k, :, :, :] = img2\n",
        "            targets[k] = all_labels[ix]\n",
        "            k += 1\n",
        "            if k == batch_size:\n",
        "                yield pairs, targets\n",
        "                k = 0\n",
        "                pairs=[np.zeros((batch_size, img_h, img_w, 1)) for i in range(2)]\n",
        "                targets=np.zeros((batch_size,))"
      ],
      "execution_count": 0,
      "outputs": []
    },
    {
      "cell_type": "code",
      "metadata": {
        "id": "4QN5QKy-V5JP",
        "colab_type": "code",
        "colab": {}
      },
      "source": [
        "def euclidean_distance(vects):\n",
        "    '''Compute Euclidean Distance between two vectors'''\n",
        "    x, y = vects\n",
        "    return K.sqrt(K.sum(K.square(x - y), axis=1, keepdims=True))"
      ],
      "execution_count": 0,
      "outputs": []
    },
    {
      "cell_type": "code",
      "metadata": {
        "id": "aAGdcj1YV7Y_",
        "colab_type": "code",
        "colab": {}
      },
      "source": [
        "def eucl_dist_output_shape(shapes):\n",
        "    shape1, shape2 = shapes\n",
        "    return (shape1[0], 1)"
      ],
      "execution_count": 0,
      "outputs": []
    },
    {
      "cell_type": "code",
      "metadata": {
        "id": "Uzbqv0pVV90f",
        "colab_type": "code",
        "colab": {}
      },
      "source": [
        "def contrastive_loss(y_true, y_pred):\n",
        "    '''Contrastive loss from Hadsell-et-al.'06\n",
        "    Source: http://yann.lecun.com/exdb/publis/pdf/hadsell-chopra-lecun-06.pdf\n",
        "    \n",
        "    Explanation:\n",
        "    When ytrue is 1, that means the sample are duplicates of each other, \n",
        "    so the Euclidean distance (ypred) between their outputs must be minimized.\n",
        "    So the loss is taken as the square of that Euclidean distance itself - K.square(y_pred).\n",
        "    When ytrue is 0, i.e. the samples are not duplicates, then the Euclidean distance \n",
        "    between them must be maximized, at least to the margin. So the loss to be minimized\n",
        "    is the difference of the margin and the Euclidean distance - (margin - y_pred).\n",
        "    If the Euclidean distance (ypred) is already greater than the margin, \n",
        "    then nothing is to be learned, so the loss is made to be zero in \n",
        "    that case by saying K.maximum(margin - y_pred, 0).\n",
        "    '''\n",
        "    margin = 1\n",
        "    return K.mean(y_true * K.square(y_pred) + (1 - y_true) * K.square(K.maximum(margin - y_pred, 0)))"
      ],
      "execution_count": 0,
      "outputs": []
    },
    {
      "cell_type": "code",
      "metadata": {
        "id": "VpW_9SPmWHwY",
        "colab_type": "code",
        "colab": {}
      },
      "source": [
        "def create_base_network_signet(input_shape):\n",
        "    '''Base Siamese Network'''\n",
        "    \n",
        "    seq = Sequential()\n",
        "    seq.add(Conv2D(96, kernel_size=(11, 11), activation='relu', name='conv1_1', strides=4, input_shape= input_shape))\n",
        "    seq.add(BatchNormalization())\n",
        "    seq.add(MaxPooling2D((3,3), strides=(2, 2)))    \n",
        "    seq.add(ZeroPadding2D((2, 2)))\n",
        "    \n",
        "    seq.add(Conv2D(256, kernel_size=(5, 5), activation='relu', name='conv2_1'))\n",
        "    seq.add(BatchNormalization())\n",
        "    seq.add(MaxPooling2D((3,3), strides=(2, 2)))\n",
        "    seq.add(Dropout(0.3))\n",
        "    seq.add(ZeroPadding2D((1, 1)))\n",
        "    \n",
        "    seq.add(Conv2D(384, kernel_size=(3, 3), activation='relu', name='conv3_1'))\n",
        "    seq.add(ZeroPadding2D((1, 1)))\n",
        "    \n",
        "    seq.add(Conv2D(256, kernel_size=(3, 3), activation='relu', name='conv3_2'))    \n",
        "    seq.add(MaxPooling2D((3,3), strides=(2, 2)))\n",
        "    seq.add(Dropout(0.3))\n",
        "    seq.add(Flatten(name='flatten'))\n",
        "    seq.add(Dense(1024, activation='relu'))\n",
        "    seq.add(Dropout(0.5))\n",
        "    \n",
        "    seq.add(Dense(128, activation='relu')) # softmax changed to relu\n",
        "    \n",
        "    return seq"
      ],
      "execution_count": 0,
      "outputs": []
    },
    {
      "cell_type": "code",
      "metadata": {
        "id": "Er9QSYjTWNpb",
        "colab_type": "code",
        "colab": {}
      },
      "source": [
        "input_shape=(img_h, img_w, 1)"
      ],
      "execution_count": 0,
      "outputs": []
    },
    {
      "cell_type": "code",
      "metadata": {
        "id": "PBg7SMPmWSO2",
        "colab_type": "code",
        "colab": {}
      },
      "source": [
        "base_network = create_base_network_signet(input_shape)\n",
        "\n",
        "input_a = Input(shape=(input_shape))\n",
        "input_b = Input(shape=(input_shape))\n",
        "\n",
        "# because we re-use the same instance `base_network`,\n",
        "# the weights of the network\n",
        "# will be shared across the two branches\n",
        "processed_a = base_network(input_a)\n",
        "processed_b = base_network(input_b)\n",
        "\n",
        "# Compute the Euclidean distance between the two vectors in the latent space\n",
        "distance = Lambda(euclidean_distance, output_shape=eucl_dist_output_shape)([processed_a, processed_b])\n",
        "\n",
        "model = Model(inputs=[input_a, input_b], outputs=distance)"
      ],
      "execution_count": 0,
      "outputs": []
    },
    {
      "cell_type": "code",
      "metadata": {
        "id": "FK_YpkslWWd3",
        "colab_type": "code",
        "outputId": "4d60af6e-6b23-465b-9ffc-5b1d29accf12",
        "colab": {
          "base_uri": "https://localhost:8080/",
          "height": 34
        }
      },
      "source": [
        "batch_sz = 128\n",
        "num_train_samples = 276*120 + 300*120\n",
        "num_val_samples = num_test_samples = 276*20 + 300*20\n",
        "num_train_samples, num_val_samples, num_test_samples"
      ],
      "execution_count": 0,
      "outputs": [
        {
          "output_type": "execute_result",
          "data": {
            "text/plain": [
              "(69120, 11520, 11520)"
            ]
          },
          "metadata": {
            "tags": []
          },
          "execution_count": 27
        }
      ]
    },
    {
      "cell_type": "code",
      "metadata": {
        "id": "5waDKwinWaQs",
        "colab_type": "code",
        "colab": {}
      },
      "source": [
        "rms = RMSprop(lr=1e-4)\n",
        "model.compile(loss=contrastive_loss, optimizer=rms)"
      ],
      "execution_count": 0,
      "outputs": []
    },
    {
      "cell_type": "code",
      "metadata": {
        "id": "heKB4zf0Wdcq",
        "colab_type": "code",
        "colab": {}
      },
      "source": [
        "callbacks = [\n",
        "    EarlyStopping(patience=12, verbose=1),\n",
        "    ReduceLROnPlateau(factor=0.1, patience=5, min_lr=0.000001, verbose=1),\n",
        "    ModelCheckpoint('/content/gdrive/My Drive/Face Recognition/vgg_face_weights.h5', verbose=1, save_weights_only=True)\n",
        "]"
      ],
      "execution_count": 0,
      "outputs": []
    },
    {
      "cell_type": "code",
      "metadata": {
        "id": "8JWqoIjAWgEc",
        "colab_type": "code",
        "outputId": "e7f90c9b-8a67-49e3-ff64-d66929a7053e",
        "colab": {
          "base_uri": "https://localhost:8080/",
          "height": 101
        }
      },
      "source": [
        "results = model.fit_generator(generate_batch(orig_train, forg_train, batch_sz),\n",
        "                              steps_per_epoch = num_train_samples//batch_sz,\n",
        "                              epochs = 20,\n",
        "                              validation_data = generate_batch(orig_val, forg_val, batch_sz),\n",
        "                              validation_steps = num_val_samples//batch_sz,\n",
        "                              callbacks = callbacks)"
      ],
      "execution_count": 0,
      "outputs": [
        {
          "output_type": "stream",
          "text": [
            "WARNING:tensorflow:From <ipython-input-30-8bd7cc2732d4>:6: Model.fit_generator (from tensorflow.python.keras.engine.training) is deprecated and will be removed in a future version.\n",
            "Instructions for updating:\n",
            "Please use Model.fit, which supports generators.\n",
            "Epoch 1/20\n",
            "540/540 [==============================] - ETA: 0s - loss: 1.3939"
          ],
          "name": "stdout"
        }
      ]
    },
    {
      "cell_type": "code",
      "metadata": {
        "id": "jG2PNT3gWi6G",
        "colab_type": "code",
        "colab": {}
      },
      "source": [
        "def compute_accuracy_roc(predictions, labels):\n",
        "    '''Compute ROC accuracy with a range of thresholds on distances.\n",
        "    '''\n",
        "    dmax = np.max(predictions)\n",
        "    dmin = np.min(predictions)\n",
        "    nsame = np.sum(labels == 1)\n",
        "    ndiff = np.sum(labels == 0)\n",
        "   \n",
        "    step = 0.01\n",
        "    max_acc = 0\n",
        "    best_thresh = -1\n",
        "   \n",
        "    for d in np.arange(dmin, dmax+step, step):\n",
        "        idx1 = predictions.ravel() <= d\n",
        "        idx2 = predictions.ravel() > d\n",
        "       \n",
        "        tpr = float(np.sum(labels[idx1] == 1)) / nsame       \n",
        "        tnr = float(np.sum(labels[idx2] == 0)) / ndiff\n",
        "        acc = 0.5 * (tpr + tnr)       \n",
        "#       print ('ROC', acc, tpr, tnr)\n",
        "       \n",
        "        if (acc > max_acc):\n",
        "            max_acc, best_thresh = acc, d\n",
        "           \n",
        "    return max_acc, best_thresh"
      ],
      "execution_count": 0,
      "outputs": []
    },
    {
      "cell_type": "code",
      "metadata": {
        "id": "mJg033jdZeto",
        "colab_type": "code",
        "colab": {}
      },
      "source": [
        "model.load_weights('/content/gdrive/My Drive/Face Recognition/vgg_face_weights.h5')"
      ],
      "execution_count": 0,
      "outputs": []
    },
    {
      "cell_type": "code",
      "metadata": {
        "id": "bLrJnr9olLdi",
        "colab_type": "code",
        "colab": {}
      },
      "source": [
        "test_gen = generate_batch(orig_test, forg_test, 1)\n",
        "pred, tr_y = [], []\n",
        "for i in range(num_test_samples):\n",
        "    (img1, img2), label = next(test_gen)\n",
        "    tr_y.append(label)\n",
        "    pred.append(model.predict([img1, img2])[0][0])"
      ],
      "execution_count": 0,
      "outputs": []
    },
    {
      "cell_type": "code",
      "metadata": {
        "id": "HjzS0yFguWwX",
        "colab_type": "code",
        "colab": {}
      },
      "source": [
        "tr_acc, threshold = compute_accuracy_roc(np.array(pred), np.array(tr_y))\n",
        "tr_acc, threshold"
      ],
      "execution_count": 0,
      "outputs": []
    },
    {
      "cell_type": "code",
      "metadata": {
        "id": "lDnX5YKAuXFU",
        "colab_type": "code",
        "colab": {}
      },
      "source": [
        "def predict_score():\n",
        "    '''Predict distance score and classify test images as genuine or false'''\n",
        "    test_point, test_label = next(test_gen)\n",
        "    img1, img2 = test_point[0], test_point[1]\n",
        "    \n",
        "    fig, (ax1, ax2) = plt.subplots(1, 2, figsize = (10, 10))\n",
        "    ax1.imshow(np.squeeze(img1), cmap='gray')\n",
        "    ax2.imshow(np.squeeze(img2), cmap='gray')\n",
        "    ax1.set_title('genuine')\n",
        "    if test_label == 1:\n",
        "        ax2.set_title('genuine')\n",
        "    else:\n",
        "        ax2.set_title('false')\n",
        "    ax1.axis('off')\n",
        "    ax2.axis('off')\n",
        "    plt.show()\n",
        "    result = model.predict([img1, img2])\n",
        "    diff = result[0][0]\n",
        "    print(\"Difference Score = \", diff)\n",
        "    if diff > threshold:\n",
        "        print(\"Its a false image\")\n",
        "    else:\n",
        "        print(\"Its a genuine image\")"
      ],
      "execution_count": 0,
      "outputs": []
    },
    {
      "cell_type": "code",
      "metadata": {
        "id": "gyqDToHmu0d3",
        "colab_type": "code",
        "colab": {}
      },
      "source": [
        "predict_score()"
      ],
      "execution_count": 0,
      "outputs": []
    },
    {
      "cell_type": "code",
      "metadata": {
        "id": "a2-WMhFYu26g",
        "colab_type": "code",
        "colab": {}
      },
      "source": [
        ""
      ],
      "execution_count": 0,
      "outputs": []
    }
  ]
}